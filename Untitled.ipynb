{
 "cells": [
  {
   "cell_type": "code",
   "execution_count": 2,
   "id": "6e198308",
   "metadata": {},
   "outputs": [
    {
     "ename": "SyntaxError",
     "evalue": "invalid syntax (2149974853.py, line 14)",
     "output_type": "error",
     "traceback": [
      "\u001b[0;36m  Cell \u001b[0;32mIn[2], line 14\u001b[0;36m\u001b[0m\n\u001b[0;31m    for (line in quarto_content) {\u001b[0m\n\u001b[0m                                 ^\u001b[0m\n\u001b[0;31mSyntaxError\u001b[0m\u001b[0;31m:\u001b[0m invalid syntax\n"
     ]
    }
   ],
   "source": [
    "# Chemin vers ton fichier Quarto\n",
    "quarto_file_path <- \"/Users/nathanpizzetta/Documents/TSE/Cours/M1/Applied econometrics/Code/airport-traffic.qmd\"\n",
    "\n",
    "# Chemin du fichier R de sortie\n",
    "output_r_file_path <- \"/Users/nathanpizzetta/Documents/TSE/Cours/M1/Applied econometrics/Code/airport-traffic.R\"\n",
    "\n",
    "# Lire le contenu du fichier Quarto\n",
    "quarto_content <- readLines(quarto_file_path)\n",
    "\n",
    "# Initialiser une variable pour stocker le code R\n",
    "r_code <- \"\"\n",
    "\n",
    "# Extraire les chunks de code R\n",
    "for (line in quarto_content) {\n",
    "  if (grepl(\"^```{r.*}\", line)) { # Début d'un chunk R\n",
    "    r_code <- paste(r_code, line, sep=\"\\n\")\n",
    "    next\n",
    "  }\n",
    "  if (grepl(\"^```\", line) && nchar(r_code) > 0) { # Fin d'un chunk R\n",
    "    r_code <- paste(r_code, line, sep=\"\\n\")\n",
    "    r_code <- paste(r_code, \"\\n\", sep=\"\") # Ajouter une ligne vide après chaque chunk pour la lisibilité\n",
    "    next\n",
    "  }\n",
    "  if (nchar(r_code) > 0 && !grepl(\"^```\", line)) { # Code R à l'intérieur d'un chunk\n",
    "    r_code <- paste(r_code, line, sep=\"\\n\")\n",
    "  }\n",
    "}\n",
    "\n",
    "# Écrire le code R extrait dans le fichier de sortie\n",
    "writeLines(r_code, output_r_file_path)\n"
   ]
  }
 ],
 "metadata": {
  "kernelspec": {
   "display_name": "Python 3 (ipykernel)",
   "language": "python",
   "name": "python3"
  },
  "language_info": {
   "codemirror_mode": {
    "name": "ipython",
    "version": 3
   },
   "file_extension": ".py",
   "mimetype": "text/x-python",
   "name": "python",
   "nbconvert_exporter": "python",
   "pygments_lexer": "ipython3",
   "version": "3.11.4"
  }
 },
 "nbformat": 4,
 "nbformat_minor": 5
}
